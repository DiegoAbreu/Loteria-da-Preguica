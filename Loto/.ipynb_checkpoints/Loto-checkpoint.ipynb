{
 "cells": [
  {
   "cell_type": "markdown",
   "metadata": {},
   "source": [
    "Números da Sorte para jogos de loteria:"
   ]
  },
  {
   "cell_type": "code",
   "execution_count": 4,
   "metadata": {},
   "outputs": [],
   "source": [
    "#Antes de começar, importe o módulo random\n",
    "import random"
   ]
  },
  {
   "cell_type": "markdown",
   "metadata": {},
   "source": [
    "# Mega-Sena"
   ]
  },
  {
   "cell_type": "code",
   "execution_count": 2,
   "metadata": {},
   "outputs": [
    {
     "name": "stdout",
     "output_type": "stream",
     "text": [
      "[2, 4, 9, 17, 50, 59]\n"
     ]
    }
   ],
   "source": [
    "#Na Mega-sena escolhemos 6 números entre 1 e 60.\n",
    "sena = random.sample(range(1,61),6) #O valor final do range não é inclusivo, por isso é necessário adicionar mais um.\n",
    "sena.sort() #Organiza os números em ordem crescente.\n",
    "print(sena) #imprime os números da sorte.\n"
   ]
  },
  {
   "cell_type": "markdown",
   "metadata": {},
   "source": [
    "# Lotofácil"
   ]
  },
  {
   "cell_type": "code",
   "execution_count": 12,
   "metadata": {},
   "outputs": [
    {
     "name": "stdout",
     "output_type": "stream",
     "text": [
      "[1, 3, 6, 7, 8, 9, 11, 12, 14, 15, 17, 18, 20, 21, 25]\n"
     ]
    }
   ],
   "source": [
    "#Na Lotofácil escolhemos 15 números entre 1 e 25.\n",
    "lotofacil = random.sample(range(1,26),15)\n",
    "lotofacil.sort()\n",
    "print(lotofacil)"
   ]
  },
  {
   "cell_type": "markdown",
   "metadata": {},
   "source": [
    "# Quina"
   ]
  },
  {
   "cell_type": "code",
   "execution_count": 13,
   "metadata": {},
   "outputs": [
    {
     "name": "stdout",
     "output_type": "stream",
     "text": [
      "[2, 19, 39, 48, 76]\n"
     ]
    }
   ],
   "source": [
    "#Na Quina escolhemos 5 números entre 1 e 80.\n",
    "quina = random.sample(range(1,81),5)\n",
    "quina.sort()\n",
    "print(quina)"
   ]
  },
  {
   "cell_type": "markdown",
   "metadata": {},
   "source": [
    "# Lotomania"
   ]
  },
  {
   "cell_type": "code",
   "execution_count": 14,
   "metadata": {},
   "outputs": [
    {
     "name": "stdout",
     "output_type": "stream",
     "text": [
      "[2, 3, 4, 5, 8, 10, 11, 12, 17, 21, 22, 23, 24, 26, 27, 29, 30, 33, 34, 35, 36, 38, 44, 51, 52, 53, 56, 57, 59, 62, 66, 67, 68, 69, 72, 73, 74, 75, 78, 79, 80, 82, 84, 87, 89, 93, 95, 96, 97, 98]\n"
     ]
    }
   ],
   "source": [
    "#Na Lotomania escolhemos 50 números entre 0 e 99.\n",
    "lotomania = random.sample(range(0,100),50)\n",
    "lotomania.sort()\n",
    "print(lotomania)"
   ]
  },
  {
   "cell_type": "markdown",
   "metadata": {},
   "source": [
    "# Timemania"
   ]
  },
  {
   "cell_type": "code",
   "execution_count": 33,
   "metadata": {},
   "outputs": [
    {
     "name": "stdout",
     "output_type": "stream",
     "text": [
      "[10, 20, 28, 32, 55, 58, 65, 73, 76, 78]\n",
      "[(16, 'Brasiliense-DF')]\n"
     ]
    }
   ],
   "source": [
    "#Na Timemaia escolhemos 10 números entre 1 e 80. E também um time.\n",
    "numTimemania = random.sample(range(1,81),10)\n",
    "numTimemania.sort()\n",
    "times = {(1,\"ABC-RN\"),(2,\"América-MG\"),(3,\"América-RJ\"),(4,\"América-RN\"),(5,\"Americano-RJ\"),(6,\"Atlético-GO\"),\n",
    "         (7,\"Atlético-MG\"),(8,\"Atlético-PR\"),(9,\"Avaí-Sc\"),(10,\"Bahia-BA\"),(11,\"Bangu-RJ\"),(12,\"Barueri-SP\"),\n",
    "         (13,\"Botafogo-PB\"),(14,\"Botafogo-RJ\"),(15,\"Bragantino-SP\"),(16,\"Brasiliense-DF\"),(17,\"Ceará-CE\"),\n",
    "         (18,\"Corinthias-SP\"),(19,\"Coritiba-PR\"),(20,\"CRB-AL\"),(21,\"Criciúma-SC\"),(22,\"Cruzeiro-MG\"),(23,\"CSA-AL\"),\n",
    "         (24,\"Desportiva-ES\"),(25,\"Figueirense-SC\"),(26,\"Flamengo-RJ\"),(27,\"Fluminense-RJ\"),(28,\"Fortaleza-CE\"),\n",
    "         (29,\"Gama-DF\"),(30,\"Goiás-GO\"),(31,\"Grêmio-RS\"),(32,\"Guarani-SP\"),(33,\"Inter de Limeira-SP\"),(34,\"Internacional\"),\n",
    "         (35,\"Ipatinga-MG\"),(36,\"Ituano-SP\"),(37,\"JI-Paraná-RO\"),(38,\"Joinville-SC\"),(39,\"Juventude-RS\"),(40,\"Juventus-SP\"),\n",
    "         (41,\"Londrina-PR\"),(42,\"Marília-SP\"),(43,\"Mixto-MT\"),(44,\"Moto Clube-MA\"),(45,\"Nacional-AM\"),(46,\"Náutico-PE\"),\n",
    "         (47,\"Olaria-RJ\"),(48,\"Operário-MS\"),(49,\"Palmas-TO\"),(50,\"Palmeiras-SP\"),(51,\"Paraná-SP\"),(52,\"Paulista-SP\"),\n",
    "         (53,\"Paysandu-Pa\"),(54,\"Ponte Preta-SP\"),(55,\"Portuguesa de desportos-SP\"),(56,\"Remo-PA\"),(57,\"Rio Branco-AC\"),\n",
    "         (58,\"Rio Branco-ES\"),(59,\"River-Pi\"),(60,\"Roraima-RR\"),(61,\"Sampaio Corrêa-MA\"),(62,\"Santa Cruz-PE\"),\n",
    "         (63,\"Santo André-SP\"),(64,\"Santos-SP\"),(65,\"São Caetano-SP\"),(66,\"São Paulo-SP\"),(67,\"São Raimundo-AM\"),\n",
    "         (68,\"Sergipe-SE\"),(69,\"Sport-PE\"),(70,\"Treze-PB\"),(71,\"Tuna Luso-PA\"),(72,\"Uberlândia-MG\"),(73,\"União Barbarense-SP\"),\n",
    "         (74,\"União São João-SP\"),(75,\"Vasco-RJ\"),(76,\"Vila Nova-GO\"),(77,\"Villa Nova-MG\"),(78,\"Vitória-BA\"),\n",
    "         (79,\"XV de Piracicaba-SP\"),(80,\"Ypiranga-AP\")}\n",
    "timeTimemania = random.sample((times),1)\n",
    "print(numTimemania)\n",
    "print(timeTimemania)"
   ]
  },
  {
   "cell_type": "markdown",
   "metadata": {},
   "source": [
    "# Dupla Sena"
   ]
  },
  {
   "cell_type": "code",
   "execution_count": 3,
   "metadata": {},
   "outputs": [
    {
     "name": "stdout",
     "output_type": "stream",
     "text": [
      "[12, 30, 34, 35, 37, 44]\n"
     ]
    }
   ],
   "source": [
    "#Na Dupla Sena escolhemos 6 números entre 1 e 50.\n",
    "duplaSena = random.sample(range(1,51),6)\n",
    "duplaSena.sort()\n",
    "print(duplaSena)"
   ]
  },
  {
   "cell_type": "markdown",
   "metadata": {},
   "source": [
    "# Dia de Sorte"
   ]
  },
  {
   "cell_type": "code",
   "execution_count": 6,
   "metadata": {},
   "outputs": [
    {
     "name": "stdout",
     "output_type": "stream",
     "text": [
      "[8, 11, 18, 20, 22, 28, 31]\n",
      "['fev']\n"
     ]
    }
   ],
   "source": [
    "#Na Dia de Sorte escolhemos 7 números entre 1 e 31. E também um dos meses do ano.\n",
    "diaDeSorte = random.sample(range(1,32),7)\n",
    "diaDeSorte.sort()\n",
    "meses = ['jan', 'fev', 'mar', 'abr', 'mai', 'jun', 'jul', 'ago', 'set', 'out', 'nov', 'dez']\n",
    "mesdiaDeSorte = random.sample((meses),1)\n",
    "print(diaDeSorte)\n",
    "print(mesdiaDeSorte)"
   ]
  },
  {
   "cell_type": "markdown",
   "metadata": {},
   "source": [
    "### Boa Sorte!"
   ]
  }
 ],
 "metadata": {
  "kernelspec": {
   "display_name": "Python 3",
   "language": "python",
   "name": "python3"
  },
  "language_info": {
   "codemirror_mode": {
    "name": "ipython",
    "version": 3
   },
   "file_extension": ".py",
   "mimetype": "text/x-python",
   "name": "python",
   "nbconvert_exporter": "python",
   "pygments_lexer": "ipython3",
   "version": "3.6.5"
  }
 },
 "nbformat": 4,
 "nbformat_minor": 2
}
